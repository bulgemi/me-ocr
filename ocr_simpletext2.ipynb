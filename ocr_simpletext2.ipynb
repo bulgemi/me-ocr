{
 "cells": [
  {
   "cell_type": "code",
   "execution_count": null,
   "metadata": {},
   "outputs": [],
   "source": [
    "!sudo apt install tesseract-ocr"
   ]
  },
  {
   "cell_type": "code",
   "execution_count": null,
   "metadata": {},
   "outputs": [],
   "source": [
    "!export TESSDATA_PREFIX=\"/usr/share/tesseract-ocr/\"\n",
    "!source ~/.bashrc"
   ]
  },
  {
   "cell_type": "code",
   "execution_count": null,
   "metadata": {},
   "outputs": [],
   "source": [
    "!sudo apt-get install tesseract-ocr-kor"
   ]
  },
  {
   "cell_type": "code",
   "execution_count": null,
   "metadata": {},
   "outputs": [],
   "source": [
    "!pip install numpy opencv-contrib-python"
   ]
  },
  {
   "cell_type": "code",
   "execution_count": null,
   "metadata": {},
   "outputs": [],
   "source": [
    "!pip install pytesseract "
   ]
  },
  {
   "cell_type": "code",
   "execution_count": null,
   "metadata": {},
   "outputs": [],
   "source": [
    "import pytesseract\n",
    "import cv2\n",
    "import matplotlib.pyplot as plt\n",
    "import os"
   ]
  },
  {
   "cell_type": "code",
   "execution_count": null,
   "metadata": {},
   "outputs": [],
   "source": [
    "!pwd"
   ]
  },
  {
   "cell_type": "code",
   "execution_count": null,
   "metadata": {},
   "outputs": [],
   "source": [
    "path = 'img/manytext1.jpg'"
   ]
  },
  {
   "cell_type": "code",
   "execution_count": null,
   "metadata": {},
   "outputs": [],
   "source": [
    "os.path.isfile(path)"
   ]
  },
  {
   "cell_type": "code",
   "execution_count": null,
   "metadata": {},
   "outputs": [],
   "source": [
    "# Image Load (RGB)\n",
    "image = cv2.imread(path)\n",
    "rgb_image = cv2.cvtColor(image, cv2.COLOR_BGR2RGB)"
   ]
  },
  {
   "cell_type": "code",
   "execution_count": null,
   "metadata": {},
   "outputs": [],
   "source": [
    "plt.imshow(rgb_image)"
   ]
  },
  {
   "cell_type": "code",
   "execution_count": null,
   "metadata": {},
   "outputs": [],
   "source": [
    "text = pytesseract.image_to_string(rgb_image, lang='kor+eng')\n",
    "print(text)"
   ]
  },
  {
   "cell_type": "code",
   "execution_count": null,
   "metadata": {},
   "outputs": [],
   "source": [
    "# default colour load (BGR)\n",
    "image_paper = cv2.imread(path, cv2.IMREAD_COLOR)\n",
    "plt.figure(figsize=[15,5])\n",
    "plt.imshow(image_paper)\n",
    "plt.xlabel(\"Original\", fontsize = 15)\n",
    "print(image_paper.shape)"
   ]
  },
  {
   "cell_type": "code",
   "execution_count": null,
   "metadata": {},
   "outputs": [],
   "source": [
    "text = pytesseract.image_to_string(image_paper, lang='kor') # lang='kor+eng'\n",
    "print(text)"
   ]
  },
  {
   "cell_type": "code",
   "execution_count": null,
   "metadata": {},
   "outputs": [],
   "source": [
    "def gray_scale(image):\n",
    "  result = cv2.cvtColor(image, cv2.COLOR_BGR2GRAY)\n",
    "  return result\n",
    "\n",
    "image_paper_gray = gray_scale(image_paper)\n",
    "plt.figure(figsize = [20, 7])\n",
    "plt.subplot(1,2,1)\n",
    "plt.imshow(image_paper)\n",
    "plt.xlabel(\"Original\", fontsize = 15)\n",
    "print(\"Image_pager shape : \", image_paper.shape)\n",
    "plt.subplot(1,2,2)\n",
    "plt.imshow(image_paper_gray)\n",
    "plt.xlabel(\"Grayscale\", fontsize = 15)\n",
    "print(\"Grayscale image shape : \", image_paper_gray.shape)"
   ]
  },
  {
   "cell_type": "code",
   "execution_count": null,
   "metadata": {},
   "outputs": [],
   "source": [
    "text = pytesseract.image_to_string(image_paper_gray, lang='kor') # lang='kor+eng'\n",
    "print(text)"
   ]
  },
  {
   "cell_type": "code",
   "execution_count": null,
   "metadata": {},
   "outputs": [],
   "source": [
    "def image_threshold(image):\n",
    "  result = cv2.threshold(image, 0, 255, cv2.THRESH_BINARY + cv2.THRESH_OTSU)[1]\n",
    "  return result\n",
    "  \n",
    "image_paper_binary = image_threshold(image_paper_gray)\n",
    "plt.figure(figsize = [20, 7])\n",
    "plt.subplot(1,2,1)\n",
    "plt.imshow(image_paper_gray)\n",
    "plt.xlabel(\"Grayscale\", fontsize = 15)\n",
    "print(\"Grayscale Image shape : \", image_paper_gray.shape)\n",
    "print(image_paper_gray,\"\\n\")\n",
    "plt.subplot(1,2,2)\n",
    "plt.imshow(image_paper_binary)\n",
    "plt.xlabel(\"Binary\", fontsize = 15)\n",
    "print(\"Binary image shape : \", image_paper_binary.shape)\n",
    "print(image_paper_binary)"
   ]
  },
  {
   "cell_type": "code",
   "execution_count": null,
   "metadata": {},
   "outputs": [],
   "source": [
    "# 노이즈 제거\n",
    "def remove_noise(image, kernel_size=5):\n",
    "  result = cv2.medianBlur(image, ksize=kernel_size)\n",
    "  return result\n",
    "  \n",
    "image_paper_rm = remove_noise(image_paper)\n",
    "plt.figure(figsize = [20, 7])\n",
    "plt.subplot(1,2,1)\n",
    "plt.imshow(image_paper)\n",
    "plt.xlabel(\"Original\", fontsize = 15)\n",
    "print(\"Original Image shape : \", image_paper.shape)\n",
    "# print(image_paper,\"\\n\")\n",
    "plt.subplot(1,2,2)\n",
    "plt.imshow(image_paper_rm)\n",
    "plt.xlabel(\"Noise removed(k_size=5)\", fontsize = 15)\n",
    "print(\"Noise removed image shape : \", image_paper_rm.shape)\n",
    "# print(image_paper_rm)\n",
    "image_paper_rm21 = remove_noise(image_paper, kernel_size=21)\n",
    "plt.figure(figsize = [20, 7])\n",
    "plt.subplot(1,2,1)\n",
    "plt.imshow(image_paper_rm21)\n",
    "plt.xlabel(\"Noise removed(k_size=21)\", fontsize = 15)\n",
    "image_paper_rm51 = remove_noise(image_paper, kernel_size=51)\n",
    "plt.subplot(1,2,2)\n",
    "plt.imshow(image_paper_rm51)\n",
    "plt.xlabel(\"Noise removed(k_size=51)\", fontsize = 15)"
   ]
  },
  {
   "cell_type": "code",
   "execution_count": null,
   "metadata": {},
   "outputs": [],
   "source": [
    "text = pytesseract.image_to_string(image_paper_rm21, lang='kor') # lang='kor+eng'\n",
    "print(text)"
   ]
  }
 ],
 "metadata": {
  "kernelspec": {
   "display_name": "Python 3.10.8 64-bit",
   "language": "python",
   "name": "python3"
  },
  "language_info": {
   "name": "python",
   "version": "3.10.8"
  },
  "orig_nbformat": 4,
  "vscode": {
   "interpreter": {
    "hash": "0f46bf5484572050e418cc9af0563aee861af420bacbad5eca1b59c70735c72a"
   }
  }
 },
 "nbformat": 4,
 "nbformat_minor": 2
}
