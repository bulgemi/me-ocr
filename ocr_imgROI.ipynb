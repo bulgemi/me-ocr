{
 "cells": [
  {
   "cell_type": "code",
   "execution_count": null,
   "metadata": {},
   "outputs": [],
   "source": [
    "!sudo apt install tesseract-ocr"
   ]
  },
  {
   "cell_type": "code",
   "execution_count": null,
   "metadata": {},
   "outputs": [],
   "source": [
    "!export TESSDATA_PREFIX=\"/usr/share/tesseract-ocr/\"\n",
    "!source ~/.bashrc"
   ]
  },
  {
   "cell_type": "code",
   "execution_count": null,
   "metadata": {},
   "outputs": [],
   "source": [
    "!sudo apt-get install tesseract-ocr-kor"
   ]
  },
  {
   "cell_type": "code",
   "execution_count": null,
   "metadata": {},
   "outputs": [],
   "source": [
    "!pip install numpy opencv-contrib-python"
   ]
  },
  {
   "cell_type": "code",
   "execution_count": null,
   "metadata": {},
   "outputs": [],
   "source": [
    "!pip install pytesseract "
   ]
  },
  {
   "cell_type": "code",
   "execution_count": null,
   "metadata": {},
   "outputs": [],
   "source": [
    "import pytesseract\n",
    "import cv2\n",
    "import matplotlib.pyplot as plt\n",
    "import os"
   ]
  },
  {
   "cell_type": "code",
   "execution_count": null,
   "metadata": {},
   "outputs": [],
   "source": [
    "!pwd"
   ]
  },
  {
   "cell_type": "code",
   "execution_count": null,
   "metadata": {},
   "outputs": [],
   "source": [
    "path = 'img/manytext1.jpg'"
   ]
  },
  {
   "cell_type": "code",
   "execution_count": null,
   "metadata": {},
   "outputs": [],
   "source": [
    "os.path.isfile(path)"
   ]
  },
  {
   "cell_type": "code",
   "execution_count": null,
   "metadata": {},
   "outputs": [],
   "source": [
    "# Image Load (BGR)\n",
    "image = cv2.imread(path)  # image size (9248, 6936, 3)\n",
    "\n",
    "plt.figure(figsize = [20, 7])\n",
    "plt.subplot(1,2,1)\n",
    "plt.imshow(image)\n",
    "plt.xlabel(\"Original\", fontsize = 15)\n",
    "\n",
    "# 좌표를 임의로 지정하기 (x,y,w,h)\n",
    "getROI = (500, 2500, 6000, 1000)\n",
    "image_cropped = image[getROI[1]:getROI[1]+getROI[3], getROI[0]:getROI[0]+getROI[2]] \n",
    "plt.subplot(1,2,2)\n",
    "plt.imshow(image_cropped)\n",
    "plt.xlabel(\"Cropped\", fontsize = 15)\n",
    "print(\"ROI (x, y, w, h) : \", getROI)"
   ]
  },
  {
   "cell_type": "code",
   "execution_count": null,
   "metadata": {},
   "outputs": [],
   "source": [
    "# tesseract 를 이용해서 ocr을 진행하도록 한다.\n",
    "text = pytesseract.image_to_string(image_cropped, lang='kor+eng')\n",
    "print(text)"
   ]
  },
  {
   "cell_type": "code",
   "execution_count": null,
   "metadata": {},
   "outputs": [],
   "source": [
    "# Image Load (BGR)\n",
    "# image = cv2.imread(path)\n",
    "\n",
    "# 마우스를 이용하여 이미지를 원하는 부분을 ROI로 지정한다.\n",
    "# getROI = cv2.selectROI('image', image, False)\n",
    "# print(getROI)"
   ]
  },
  {
   "cell_type": "code",
   "execution_count": null,
   "metadata": {},
   "outputs": [],
   "source": [
    "# if getROI[2] and getROI[3] :\n",
    "#     roi = image[getROI[1]:getROI[1]+getROI[3], getROI[0]:getROI[0]+getROI[2]]  # image[y:y+h, x:x+w]\n",
    "#     # cv2.imshow('cropped', roi)\n",
    "#     wpath = 'img/manytext1_cropped.jpg'\n",
    "#     cv2.imwrite(wpath, roi)\n",
    "#     image_roi = cv2.imread(wpath, cv2.IMREAD_COLOR)\n",
    "#     plt.figure(figsize=[15,5])\n",
    "#     plt.imshow(image_roi)\n",
    "#     plt.xlabel(\"Cropped\", fontsize = 15)\n",
    "#     # tesseract 를 이용해서 ocr을 진행하도록 한다.\n",
    "#     text = pytesseract.image_to_string(image_roi, lang='kor+eng')\n",
    "#     print(text)"
   ]
  },
  {
   "cell_type": "code",
   "execution_count": null,
   "metadata": {},
   "outputs": [],
   "source": [
    "cv2.waitKey(0)\n",
    "cv2.descroyAllWindows()"
   ]
  }
 ],
 "metadata": {
  "kernelspec": {
   "display_name": "Python 3.10.8 64-bit",
   "language": "python",
   "name": "python3"
  },
  "language_info": {
   "name": "python",
   "version": "3.10.8"
  },
  "orig_nbformat": 4,
  "vscode": {
   "interpreter": {
    "hash": "0f46bf5484572050e418cc9af0563aee861af420bacbad5eca1b59c70735c72a"
   }
  }
 },
 "nbformat": 4,
 "nbformat_minor": 2
}
